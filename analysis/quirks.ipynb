{
 "cells": [
  {
   "cell_type": "markdown",
   "metadata": {},
   "source": [
    "## Just Wanted to Illustrate a Quirk in this dataset"
   ]
  },
  {
   "cell_type": "code",
   "execution_count": 1,
   "metadata": {
    "collapsed": false
   },
   "outputs": [
    {
     "name": "stdout",
     "output_type": "stream",
     "text": [
      "Populating the interactive namespace from numpy and matplotlib\n"
     ]
    }
   ],
   "source": [
    "#Imports and libraries here\n",
    "%pylab inline\n",
    "\n",
    "import os\n",
    "import pandas as pd\n",
    "import matplotlib.pylab as plt\n",
    "\n",
    "plt.style.use('ggplot')\n",
    "pd.set_option('display.max_columns', None)"
   ]
  },
  {
   "cell_type": "markdown",
   "metadata": {},
   "source": [
    "## Loading two of the datasets\n",
    "Here we've go the list of plan attributes, and the list of plan rates (montly premiums). I think these should have the same plans listed in them"
   ]
  },
  {
   "cell_type": "code",
   "execution_count": 3,
   "metadata": {
    "collapsed": false
   },
   "outputs": [],
   "source": [
    "#All our datasets live in /data directory.\n",
    "data_path = \"../data/2016\"\n",
    "\n",
    "plan_attr_df = pd.read_csv(os.path.join(data_path, 'plan-attributes-puf.csv'), low_memory=False)\n",
    "plan_rate_df = pd.read_csv(os.path.join(data_path, 'rate-puf.csv'), low_memory=False)"
   ]
  },
  {
   "cell_type": "markdown",
   "metadata": {},
   "source": [
    "## Notice\n",
    "That what goes by the name \"PlanID\" in one dataset has the name \"StandardComponentID\" in the other. These seem to be unique identifiers for each plan. We think the two letters in the middle correspond to the state."
   ]
  },
  {
   "cell_type": "code",
   "execution_count": 6,
   "metadata": {
    "collapsed": false
   },
   "outputs": [
    {
     "name": "stdout",
     "output_type": "stream",
     "text": [
      "['21989AK0030001' '21989AK0050001' '38344AK1020001' '38344AK1020001'\n",
      " '21989AK0080001' '21989AK0030001' '21989AK0080002' '21989AK0050001'\n",
      " '21989AK0050002' '21989AK0090001']\n",
      "['21989AK0030001' '21989AK0050001' '38344AK1020001' '38344AK1020001'\n",
      " '21989AK0080001' '21989AK0030001' '21989AK0080002' '21989AK0050001'\n",
      " '21989AK0050002' '21989AK0090001']\n"
     ]
    }
   ],
   "source": [
    "n2print = 10\n",
    "print plan_attr_df.StandardComponentId.values[0:n2print]\n",
    "print plan_attr_df.StandardComponentId.values[0:n2print]"
   ]
  },
  {
   "cell_type": "markdown",
   "metadata": {},
   "source": [
    "## Whats wierd\n",
    "Is that for some states, the number of plans in the two datasets matches, well, while in others there's a big discrepency."
   ]
  },
  {
   "cell_type": "code",
   "execution_count": 7,
   "metadata": {
    "collapsed": false
   },
   "outputs": [
    {
     "data": {
      "text/html": [
       "<div style=\"max-height:1000px;max-width:1500px;overflow:auto;\">\n",
       "<table border=\"1\" class=\"dataframe\">\n",
       "  <thead>\n",
       "    <tr style=\"text-align: right;\">\n",
       "      <th></th>\n",
       "      <th>AK</th>\n",
       "      <th>AL</th>\n",
       "      <th>AR</th>\n",
       "      <th>AZ</th>\n",
       "      <th>DE</th>\n",
       "      <th>FL</th>\n",
       "      <th>GA</th>\n",
       "      <th>HI</th>\n",
       "      <th>IA</th>\n",
       "      <th>IL</th>\n",
       "      <th>IN</th>\n",
       "      <th>KS</th>\n",
       "      <th>LA</th>\n",
       "      <th>ME</th>\n",
       "      <th>MI</th>\n",
       "      <th>MO</th>\n",
       "      <th>MS</th>\n",
       "      <th>MT</th>\n",
       "      <th>NC</th>\n",
       "      <th>ND</th>\n",
       "      <th>NE</th>\n",
       "      <th>NH</th>\n",
       "      <th>NJ</th>\n",
       "      <th>NM</th>\n",
       "      <th>NV</th>\n",
       "      <th>OH</th>\n",
       "      <th>OK</th>\n",
       "      <th>OR</th>\n",
       "      <th>PA</th>\n",
       "      <th>SC</th>\n",
       "      <th>SD</th>\n",
       "      <th>TN</th>\n",
       "      <th>TX</th>\n",
       "      <th>UT</th>\n",
       "      <th>VA</th>\n",
       "      <th>WI</th>\n",
       "      <th>WV</th>\n",
       "      <th>WY</th>\n",
       "    </tr>\n",
       "  </thead>\n",
       "  <tbody>\n",
       "    <tr>\n",
       "      <th>StandardComponentId</th>\n",
       "      <td> 94</td>\n",
       "      <td> 99</td>\n",
       "      <td> 65</td>\n",
       "      <td> 235</td>\n",
       "      <td> 88</td>\n",
       "      <td> 559</td>\n",
       "      <td> 362</td>\n",
       "      <td> 33</td>\n",
       "      <td> 167</td>\n",
       "      <td> 496</td>\n",
       "      <td> 225</td>\n",
       "      <td> 128</td>\n",
       "      <td> 159</td>\n",
       "      <td> 141</td>\n",
       "      <td> 380</td>\n",
       "      <td> 230</td>\n",
       "      <td> 66</td>\n",
       "      <td> 128</td>\n",
       "      <td> 209</td>\n",
       "      <td> 126</td>\n",
       "      <td> 125</td>\n",
       "      <td> 107</td>\n",
       "      <td> 220</td>\n",
       "      <td> 47</td>\n",
       "      <td> 101</td>\n",
       "      <td> 597</td>\n",
       "      <td> 313</td>\n",
       "      <td> 132</td>\n",
       "      <td> 490</td>\n",
       "      <td> 234</td>\n",
       "      <td> 90</td>\n",
       "      <td> 223</td>\n",
       "      <td> 822</td>\n",
       "      <td> 102</td>\n",
       "      <td> 317</td>\n",
       "      <td> 718</td>\n",
       "      <td> 106</td>\n",
       "      <td> 111</td>\n",
       "    </tr>\n",
       "    <tr>\n",
       "      <th>PlanId</th>\n",
       "      <td> 94</td>\n",
       "      <td> 99</td>\n",
       "      <td> 65</td>\n",
       "      <td> 235</td>\n",
       "      <td> 88</td>\n",
       "      <td> 559</td>\n",
       "      <td> 362</td>\n",
       "      <td> 33</td>\n",
       "      <td> 167</td>\n",
       "      <td> 183</td>\n",
       "      <td> 225</td>\n",
       "      <td>   2</td>\n",
       "      <td> 159</td>\n",
       "      <td>   6</td>\n",
       "      <td>   4</td>\n",
       "      <td> 230</td>\n",
       "      <td> 66</td>\n",
       "      <td>   3</td>\n",
       "      <td> 209</td>\n",
       "      <td> 126</td>\n",
       "      <td> NaN</td>\n",
       "      <td>   2</td>\n",
       "      <td> 220</td>\n",
       "      <td>NaN</td>\n",
       "      <td>   2</td>\n",
       "      <td> NaN</td>\n",
       "      <td> 313</td>\n",
       "      <td> NaN</td>\n",
       "      <td> 490</td>\n",
       "      <td> 234</td>\n",
       "      <td>NaN</td>\n",
       "      <td> 223</td>\n",
       "      <td> 822</td>\n",
       "      <td> NaN</td>\n",
       "      <td>   6</td>\n",
       "      <td> 718</td>\n",
       "      <td>   2</td>\n",
       "      <td> 111</td>\n",
       "    </tr>\n",
       "  </tbody>\n",
       "</table>\n",
       "</div>"
      ],
      "text/plain": [
       "                     AK  AL  AR   AZ  DE   FL   GA  HI   IA   IL   IN   KS  \\\n",
       "StandardComponentId  94  99  65  235  88  559  362  33  167  496  225  128   \n",
       "PlanId               94  99  65  235  88  559  362  33  167  183  225    2   \n",
       "\n",
       "                      LA   ME   MI   MO  MS   MT   NC   ND   NE   NH   NJ  NM  \\\n",
       "StandardComponentId  159  141  380  230  66  128  209  126  125  107  220  47   \n",
       "PlanId               159    6    4  230  66    3  209  126  NaN    2  220 NaN   \n",
       "\n",
       "                      NV   OH   OK   OR   PA   SC  SD   TN   TX   UT   VA  \\\n",
       "StandardComponentId  101  597  313  132  490  234  90  223  822  102  317   \n",
       "PlanId                 2  NaN  313  NaN  490  234 NaN  223  822  NaN    6   \n",
       "\n",
       "                      WI   WV   WY  \n",
       "StandardComponentId  718  106  111  \n",
       "PlanId               718    2  111  "
      ]
     },
     "execution_count": 7,
     "metadata": {},
     "output_type": "execute_result"
    }
   ],
   "source": [
    "attrplancount = plan_attr_df.groupby('StateCode').StandardComponentId.nunique()\n",
    "rateplancount = plan_rate_df.groupby('StateCode').PlanId.nunique()\n",
    "pd.DataFrame([attrplancount, rateplancount])"
   ]
  },
  {
   "cell_type": "code",
   "execution_count": null,
   "metadata": {
    "collapsed": true
   },
   "outputs": [],
   "source": []
  }
 ],
 "metadata": {
  "kernelspec": {
   "display_name": "Python 2",
   "language": "python",
   "name": "python2"
  },
  "language_info": {
   "codemirror_mode": {
    "name": "ipython",
    "version": 2
   },
   "file_extension": ".py",
   "mimetype": "text/x-python",
   "name": "python",
   "nbconvert_exporter": "python",
   "pygments_lexer": "ipython2",
   "version": "2.7.10"
  }
 },
 "nbformat": 4,
 "nbformat_minor": 0
}
