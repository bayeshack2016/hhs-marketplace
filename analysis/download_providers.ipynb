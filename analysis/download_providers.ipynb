{
 "cells": [
  {
   "cell_type": "code",
   "execution_count": 1,
   "metadata": {
    "collapsed": false
   },
   "outputs": [
    {
     "name": "stdout",
     "output_type": "stream",
     "text": [
      "There are 149 unique urls, from 484 issuers\n"
     ]
    }
   ],
   "source": [
    "import pandas as pd\n",
    "# machine-readable-puf.csv is converted from the excel file in http://download.cms.gov/marketplace-puf/2016/machine-readable-url-puf.zip\n",
    "machine_readable_df = pd.read_csv('/home/xinlu/Downloads/hhs_csvs/machine-readable-puf.csv')\n",
    "urls = machine_readable_df[machine_readable_df['URL Submitted'].str.startswith('http')]['URL Submitted'].unique()\n",
    "print 'There are', len(urls), 'unique urls, from', machine_readable_df['Issuer ID'].nunique(),'issuers'"
   ]
  },
  {
   "cell_type": "code",
   "execution_count": 2,
   "metadata": {
    "collapsed": false
   },
   "outputs": [
    {
     "data": {
      "text/html": [
       "<div>\n",
       "<table border=\"1\" class=\"dataframe\">\n",
       "  <thead>\n",
       "    <tr style=\"text-align: right;\">\n",
       "      <th></th>\n",
       "      <th>State</th>\n",
       "      <th>Issuer ID</th>\n",
       "      <th>Issuer Name</th>\n",
       "      <th>URL Submitted</th>\n",
       "      <th>Tech POC Email</th>\n",
       "    </tr>\n",
       "  </thead>\n",
       "  <tbody>\n",
       "    <tr>\n",
       "      <th>0</th>\n",
       "      <td>AK</td>\n",
       "      <td>21989</td>\n",
       "      <td>Oregon Dental Service</td>\n",
       "      <td>https://www.modahealth.com/cms-data-index.json</td>\n",
       "      <td>jessica.wagner@modahealth.com</td>\n",
       "    </tr>\n",
       "    <tr>\n",
       "      <th>1</th>\n",
       "      <td>AK</td>\n",
       "      <td>38344</td>\n",
       "      <td>Premera Blue Cross Blue Shield of Alaska</td>\n",
       "      <td>https://fm.formularynavigator.com/jsonFiles/pu...</td>\n",
       "      <td>jim.tedford@premera.com</td>\n",
       "    </tr>\n",
       "  </tbody>\n",
       "</table>\n",
       "</div>"
      ],
      "text/plain": [
       "  State  Issuer ID                               Issuer Name  \\\n",
       "0    AK      21989                     Oregon Dental Service   \n",
       "1    AK      38344  Premera Blue Cross Blue Shield of Alaska   \n",
       "\n",
       "                                       URL Submitted  \\\n",
       "0     https://www.modahealth.com/cms-data-index.json   \n",
       "1  https://fm.formularynavigator.com/jsonFiles/pu...   \n",
       "\n",
       "                  Tech POC Email  \n",
       "0  jessica.wagner@modahealth.com  \n",
       "1        jim.tedford@premera.com  "
      ]
     },
     "execution_count": 2,
     "metadata": {},
     "output_type": "execute_result"
    }
   ],
   "source": [
    "machine_readable_df.head(2)"
   ]
  },
  {
   "cell_type": "markdown",
   "metadata": {},
   "source": [
    "urls = machine_readable_df[(machine_readable_df.State=='HI') & \n",
    "                           machine_readable_df['URL Submitted'].str.startswith('http')]['URL Submitted'].unique()"
   ]
  },
  {
   "cell_type": "markdown",
   "metadata": {},
   "source": [
    "# Download the json files"
   ]
  },
  {
   "cell_type": "code",
   "execution_count": 4,
   "metadata": {
    "collapsed": true
   },
   "outputs": [],
   "source": [
    "# data from each url will be saved separately under this folder\n",
    "data_directory = './provider_json_files/'"
   ]
  },
  {
   "cell_type": "code",
   "execution_count": 5,
   "metadata": {
    "collapsed": true
   },
   "outputs": [],
   "source": [
    "import urllib2,json\n",
    "from multiprocessing.dummy import Pool as ThreadPool\n",
    "import sys\n",
    "import os"
   ]
  },
  {
   "cell_type": "code",
   "execution_count": 13,
   "metadata": {
    "collapsed": false
   },
   "outputs": [
    {
     "name": "stdout",
     "output_type": "stream",
     "text": [
      "http://www.bestlife.com/exchange/cms-data-index.json\n",
      "https://api.humana.com/v1/cms/index.json\n",
      "https://www.bcbsal.org/cms/cms-data-index.json\n",
      "https://groupaccess.deltadentalil.com/cmsdata/index.json\n",
      "https://unitedhealthcarecms.com/cms-data-index.json\n",
      "http://www.dentegra.com/hcx/cms-data-index.json\n",
      "https://www.deltadental.com/CMSDirectory/index.json\n",
      "https://provider-search.qualchoice.com/index.json\n",
      "Downloaded\n",
      "www.bestlife.com-exchange-cms-data-index.jsonplans.json is already downloaded\n",
      "provider-search.qualchoice.com-index.jsonplans.json is already downloaded\n",
      "www.deltadental.com-CMSDirectory-index.jsonplans.json is already downloaded\n",
      "groupaccess.deltadentalil.com-cmsdata-index.jsonplans.json is already downloaded\n",
      "unitedhealthcarecms.com-cms-data-index.jsonJSON_PLANS_UHC.json is already downloaded\n",
      "www.bestlife.com-exchange-cms-data-index.json/providers_wNPI.json provider-search.qualchoice.com-index.json/providers.json groupaccess.deltadentalil.com-cmsdata-index.json/providers.jsonwww.deltadental.com-CMSDirectory-index.json/providers.json unitedhealthcarecms.com-cms-data-index.json/JSON_Providers_UHC_Medical.json unitedhealthcarecms.com-cms-data-index.json/JSON_Providers_UHC_Behavioral.json is larger than 50 MB, skipping\n",
      "unitedhealthcarecms.com-cms-data-index.json/JSON_Providers_UHC_Pharmacy1.json is larger than 50 MB, skipping\n"
     ]
    }
   ],
   "source": [
    "def url_to_filename(url):\n",
    "    return url.replace('http://','').replace('https://','').replace('/','-')\n",
    "\n",
    "def get_filename(url):\n",
    "    return url.split('/')[-1]\n",
    "\n",
    "def download(url):    \n",
    "    print url\n",
    "    folder = url_to_filename(url)\n",
    "    if not folder in os.listdir(data_directory): \n",
    "        os.makedirs(data_directory+folder)\n",
    "    else:\n",
    "        if sum(1 for d in os.listdir(data_directory+folder) if 'json' in d) > 2:\n",
    "            print 'Downloaded'\n",
    "            return\n",
    "    \n",
    "    #pool = ThreadPool(8) \n",
    "    res = json.load(urllib2.urlopen(url))\n",
    "    \n",
    "    def d(url):\n",
    "        filename = get_filename(url)\n",
    "        if filename in os.listdir(data_directory+folder): \n",
    "            print folder+filename, 'is already downloaded'\n",
    "            return\n",
    "        handle = urllib2.urlopen(url)\n",
    "        if int(handle.headers['content-length']) > 1024*1024*50:\n",
    "            print folder+'/'+filename, 'is larger than 50 MB (%.2f MB), skipping' % 1.*int(handle.headers['content-length'])/1024/1024\n",
    "            return\n",
    "        else:\n",
    "            print folder+'/'+get_filename(url), round(1.*int(handle.headers['content-length'])/1024/1024,2), 'MB'\n",
    "            \n",
    "        with open(data_directory+folder+'/'+filename,'wb') as f:\n",
    "            f.write(handle.read()) # TODO should be chunking the read/save \n",
    "    \n",
    "    #pool.map(d, res['plan_urls'])\n",
    "    map(d, res['plan_urls'])\n",
    "    map(d, res['provider_urls'])\n",
    "    return\n",
    "\n",
    "pool = ThreadPool(8) \n",
    "#res = [(u, download(u)) for u in urls]\n",
    "pool.map(download, urls[2:10])"
   ]
  },
  {
   "cell_type": "markdown",
   "metadata": {},
   "source": [
    "# Parsing"
   ]
  },
  {
   "cell_type": "code",
   "execution_count": 6,
   "metadata": {
    "collapsed": false
   },
   "outputs": [
    {
     "name": "stdout",
     "output_type": "stream",
     "text": [
      "plans.json\n",
      "providers.json\n",
      "plans.json\n",
      "plans.json\n",
      "providers.json\n",
      "plans.json\n",
      "providers.json\n",
      "plans.json\n",
      "JSON_PLANS_UHC.json\n",
      "JSON_Providers_UHC_Vision.json\n",
      "plans.json\n",
      "providers_bcbsal.json\n",
      "providers_platinum_gold.json\n",
      "providers_silver_bronze.json\n",
      "plans.json\n",
      "providers_woNPI.json\n",
      "plans.json\n",
      "plans.json\n",
      "providers.json\n",
      "plans-AK.json\n",
      "plans-OR.json\n"
     ]
    }
   ],
   "source": [
    "files = []\n",
    "for d in os.listdir(data_directory):\n",
    "    for file in os.listdir(data_directory+d):\n",
    "        print file\n",
    "        if 'provider' in file.lower():\n",
    "            files.append(data_directory+d+'/'+file)"
   ]
  },
  {
   "cell_type": "code",
   "execution_count": 9,
   "metadata": {
    "collapsed": false
   },
   "outputs": [
    {
     "name": "stdout",
     "output_type": "stream",
     "text": [
      "{u'plan_id_type': u'HIOS-PLAN-ID', u'plan_id': u'38344AK0620003', u'network_tier': u'HERITAGE-PLUS'}\n",
      "{\n",
      "  \"npi\": \"1063645026\", \n",
      "  \"facility_name\": \"EXPRESS SCRIPTS\", \n",
      "  \"facility_type\": [\n",
      "    \"Pharmacies\"\n",
      "  ], \n",
      "  \"last_updated_on\": \"2015-10-14\", \n",
      "  \"type\": \"FACILITY\", \n",
      "  \"addresses\": [\n",
      "    {\n",
      "      \"city\": \"WHITESTOWN\", \n",
      "      \"state\": \"IN\", \n",
      "      \"phone\": \"2012695236\", \n",
      "      \"zip\": \"46075\", \n",
      "      \"address\": \"4750 E 450 S\"\n",
      "    }\n",
      "  ]\n",
      "}\n"
     ]
    }
   ],
   "source": [
    "file = files[0]\n",
    "with open(file) as f:\n",
    "    providers = json.load(f)\n",
    "    print providers[0]['plans'][0]\n",
    "    \n",
    "    del providers[0]['plans']\n",
    "    \n",
    "    print json.dumps(providers[0],indent=2)"
   ]
  },
  {
   "cell_type": "code",
   "execution_count": 14,
   "metadata": {
    "collapsed": false
   },
   "outputs": [
    {
     "name": "stdout",
     "output_type": "stream",
     "text": [
      "(3326, 12)\n"
     ]
    },
    {
     "data": {
      "text/html": [
       "<div>\n",
       "<table border=\"1\" class=\"dataframe\">\n",
       "  <thead>\n",
       "    <tr style=\"text-align: right;\">\n",
       "      <th></th>\n",
       "      <th>accepting</th>\n",
       "      <th>addresses</th>\n",
       "      <th>facility_name</th>\n",
       "      <th>facility_type</th>\n",
       "      <th>gender</th>\n",
       "      <th>languages</th>\n",
       "      <th>last_updated_on</th>\n",
       "      <th>name</th>\n",
       "      <th>npi</th>\n",
       "      <th>plans</th>\n",
       "      <th>speciality</th>\n",
       "      <th>type</th>\n",
       "    </tr>\n",
       "  </thead>\n",
       "  <tbody>\n",
       "    <tr>\n",
       "      <th>0</th>\n",
       "      <td>NaN</td>\n",
       "      <td>[{u'city': u'WHITESTOWN', u'state': u'IN', u'p...</td>\n",
       "      <td>EXPRESS SCRIPTS</td>\n",
       "      <td>[Pharmacies]</td>\n",
       "      <td>NaN</td>\n",
       "      <td>NaN</td>\n",
       "      <td>2015-10-14</td>\n",
       "      <td>NaN</td>\n",
       "      <td>1063645026</td>\n",
       "      <td>[{u'plan_id_type': u'HIOS-PLAN-ID', u'plan_id'...</td>\n",
       "      <td>NaN</td>\n",
       "      <td>FACILITY</td>\n",
       "    </tr>\n",
       "  </tbody>\n",
       "</table>\n",
       "</div>"
      ],
      "text/plain": [
       "  accepting                                          addresses  \\\n",
       "0       NaN  [{u'city': u'WHITESTOWN', u'state': u'IN', u'p...   \n",
       "\n",
       "     facility_name facility_type gender languages last_updated_on name  \\\n",
       "0  EXPRESS SCRIPTS  [Pharmacies]    NaN       NaN      2015-10-14  NaN   \n",
       "\n",
       "          npi                                              plans speciality  \\\n",
       "0  1063645026  [{u'plan_id_type': u'HIOS-PLAN-ID', u'plan_id'...        NaN   \n",
       "\n",
       "       type  \n",
       "0  FACILITY  "
      ]
     },
     "execution_count": 14,
     "metadata": {},
     "output_type": "execute_result"
    }
   ],
   "source": [
    "df = pd.read_json(files[0])\n",
    "print df.shape\n",
    "df.head(1)"
   ]
  },
  {
   "cell_type": "markdown",
   "metadata": {},
   "source": [
    "## saving the mapping between npi and plan_id to hdf5 format for quickly querying"
   ]
  },
  {
   "cell_type": "code",
   "execution_count": 27,
   "metadata": {
    "collapsed": false
   },
   "outputs": [
    {
     "name": "stdout",
     "output_type": "stream",
     "text": [
      "./provider_json_files/fm.formularynavigator.com-jsonFiles-publish-11-47-cms-data-index.json/providers.json\n",
      "./provider_json_files/healthy.kaiserpermanente.org-static-health-json-technical_information-hi-cms-data-index.json/providers.json\n",
      "./provider_json_files/hmsa.com-cms-data-index.json/providers.json\n",
      "./provider_json_files/unitedhealthcarecms.com-cms-data-index.json/JSON_Providers_UHC_Vision.json\n",
      "./provider_json_files/www.bcbsal.org-cms-cms-data-index.json/providers_bcbsal.json\n",
      "./provider_json_files/www.bcbsal.org-cms-cms-data-index.json/providers_platinum_gold.json\n",
      "./provider_json_files/www.bcbsal.org-cms-cms-data-index.json/providers_silver_bronze.json\n",
      "./provider_json_files/www.bestlife.com-exchange-cms-data-index.json/providers_woNPI.json\n",
      "./provider_json_files/www.dentegra.com-hcx-cms-data-index.json/providers.json\n"
     ]
    }
   ],
   "source": [
    "from pandas.io.json import json_normalize\n",
    "df_tot = pd.DataFrame()\n",
    "for file in files:\n",
    "    print file\n",
    "    df = json_normalize(json.load(open(file)),'plans', ['npi']).drop('plan_id_type',axis=1)\n",
    "    df['npi'] = df['npi'].astype(str)\n",
    "    df['network_tier'] = df['network_tier'].astype(str)\n",
    "    df['plan_id'] = df['plan_id'].astype(str)\n",
    "    df.set_index('npi')\n",
    "    df_tot = pd.concat([df_tot,df])\n",
    "    \n",
    "df = df_tot\n",
    "for state in df.plan_id.str.slice(5,7).unique():\n",
    "    df[df.plan_id.str.slice(5,7)==state].to_hdf('plan_provider.h5',str(state),format='t',append=True)\n",
    "    #df.head(1)"
   ]
  },
  {
   "cell_type": "code",
   "execution_count": 29,
   "metadata": {
    "collapsed": false
   },
   "outputs": [
    {
     "name": "stdout",
     "output_type": "stream",
     "text": [
      "157573\n"
     ]
    }
   ],
   "source": [
    "print len(pd.read_hdf('plan_provider.h5','HI'))"
   ]
  },
  {
   "cell_type": "markdown",
   "metadata": {},
   "source": [
    "## saving providers to hdf5"
   ]
  },
  {
   "cell_type": "code",
   "execution_count": 91,
   "metadata": {
    "collapsed": false
   },
   "outputs": [
    {
     "data": {
      "text/html": [
       "<div>\n",
       "<table border=\"1\" class=\"dataframe\">\n",
       "  <thead>\n",
       "    <tr style=\"text-align: right;\">\n",
       "      <th></th>\n",
       "      <th>accepting</th>\n",
       "      <th>addresses</th>\n",
       "      <th>facility_name</th>\n",
       "      <th>facility_type</th>\n",
       "      <th>gender</th>\n",
       "      <th>languages</th>\n",
       "      <th>last_updated_on</th>\n",
       "      <th>name</th>\n",
       "      <th>npi</th>\n",
       "      <th>plans</th>\n",
       "      <th>speciality</th>\n",
       "      <th>type</th>\n",
       "    </tr>\n",
       "  </thead>\n",
       "  <tbody>\n",
       "    <tr>\n",
       "      <th>0</th>\n",
       "      <td>NaN</td>\n",
       "      <td>[{u'city': u'WHITESTOWN', u'state': u'IN', u'p...</td>\n",
       "      <td>EXPRESS SCRIPTS</td>\n",
       "      <td>[Pharmacies]</td>\n",
       "      <td>NaN</td>\n",
       "      <td>NaN</td>\n",
       "      <td>2015-10-14</td>\n",
       "      <td>NaN</td>\n",
       "      <td>1063645026</td>\n",
       "      <td>[{u'plan_id_type': u'HIOS-PLAN-ID', u'plan_id'...</td>\n",
       "      <td>NaN</td>\n",
       "      <td>FACILITY</td>\n",
       "    </tr>\n",
       "  </tbody>\n",
       "</table>\n",
       "</div>"
      ],
      "text/plain": [
       "  accepting                                          addresses  \\\n",
       "0       NaN  [{u'city': u'WHITESTOWN', u'state': u'IN', u'p...   \n",
       "\n",
       "     facility_name facility_type gender languages last_updated_on name  \\\n",
       "0  EXPRESS SCRIPTS  [Pharmacies]    NaN       NaN      2015-10-14  NaN   \n",
       "\n",
       "          npi                                              plans speciality  \\\n",
       "0  1063645026  [{u'plan_id_type': u'HIOS-PLAN-ID', u'plan_id'...        NaN   \n",
       "\n",
       "       type  \n",
       "0  FACILITY  "
      ]
     },
     "execution_count": 91,
     "metadata": {},
     "output_type": "execute_result"
    }
   ],
   "source": [
    "file = files[0]\n",
    "df = pd.read_json(file)\n",
    "df.drop([c for c in ['plans','last_updated_on','type','languages','gender','facility_type'] if c in df.columns],axis=1,)\n",
    "    # normalize the address (keeping only the first one for now) and name\n",
    "    \n",
    "#df = pd.concat([df, df.pop('name').apply(pd.Series).drop([0],axis=1),df.pop('addresses').apply(pd.Series)[0].apply(pd.Series)], axis=1)\n",
    "df.head(1)"
   ]
  },
  {
   "cell_type": "code",
   "execution_count": 117,
   "metadata": {
    "collapsed": false
   },
   "outputs": [
    {
     "name": "stdout",
     "output_type": "stream",
     "text": [
      "./provider_json_files/fm.formularynavigator.com-jsonFiles-publish-11-47-cms-data-index.json/providers.json\n",
      "./provider_json_files/healthy.kaiserpermanente.org-static-health-json-technical_information-hi-cms-data-index.json/providers.json\n",
      "./provider_json_files/hmsa.com-cms-data-index.json/providers.json\n",
      "./provider_json_files/unitedhealthcarecms.com-cms-data-index.json/JSON_Providers_UHC_Vision.json\n",
      "./provider_json_files/www.bcbsal.org-cms-cms-data-index.json/providers_bcbsal.json\n",
      "./provider_json_files/www.bcbsal.org-cms-cms-data-index.json/providers_platinum_gold.json\n",
      "./provider_json_files/www.bcbsal.org-cms-cms-data-index.json/providers_silver_bronze.json\n",
      "./provider_json_files/www.bestlife.com-exchange-cms-data-index.json/providers_woNPI.json\n",
      "./provider_json_files/www.dentegra.com-hcx-cms-data-index.json/providers.json\n"
     ]
    }
   ],
   "source": [
    "import numpy as np\n",
    "file = files[0]\n",
    "init = False\n",
    "df_tot = None\n",
    "for file in files[:]:\n",
    "    print file\n",
    "    df = pd.read_json(file)\n",
    "    df.drop([c for c in ['plans','last_updated_on','type','languages','gender','facility_type'] if c in df.columns],axis=1,)\n",
    "    # normalize the address (keeping only the first one for now) and name\n",
    "    if 'name' in df.columns:\n",
    "        df = pd.concat([df, df.pop('name').apply(pd.Series)], axis=1)\n",
    "        if 0 in df.columns: df.drop([0],axis=1)\n",
    "    if 'addresses' in df.columns:\n",
    "        df = pd.concat([df, df.pop('addresses').apply(pd.Series)[0].apply(pd.Series)], axis=1)\n",
    "    if not init: \n",
    "        df_tot = df\n",
    "        init = True\n",
    "    else: df_tot = pd.concat([df_tot,df])\n",
    "    for s in ['npi', u'accepting', 'address','address_2','city','phone','state','zip', u'facility_name', u'facility_type', u'gender', \n",
    "          u'languages', u'last_updated_on',  u'npi', u'plans', u'speciality', u'type', 'suffix', 'prefix','first','middle','last']:\n",
    "        def fix(s):\n",
    "            try:\n",
    "                return str(s)\n",
    "            except: return u''\n",
    "        df[s] = df[s].fillna(u'').apply(fix).astype(str)\n",
    "        \n",
    "    #df.to_hdf('test.h5','test',format='t',append=True)\n",
    "df_tot.to_hdf('test.h5','providers',format='t',append=False)"
   ]
  },
  {
   "cell_type": "code",
   "execution_count": 160,
   "metadata": {
    "collapsed": false
   },
   "outputs": [
    {
     "name": "stdout",
     "output_type": "stream",
     "text": [
      "(68852, 16) 51408\n"
     ]
    }
   ],
   "source": [
    "df1 = pd.read_hdf('test.h5','providers')\n",
    "print df.shape, df['npi'].nunique()"
   ]
  }
 ],
 "metadata": {
  "kernelspec": {
   "display_name": "Python 2",
   "language": "python",
   "name": "python2"
  },
  "language_info": {
   "codemirror_mode": {
    "name": "ipython",
    "version": 2
   },
   "file_extension": ".py",
   "mimetype": "text/x-python",
   "name": "python",
   "nbconvert_exporter": "python",
   "pygments_lexer": "ipython2",
   "version": "2.7.6"
  }
 },
 "nbformat": 4,
 "nbformat_minor": 0
}
